{
 "cells": [
  {
   "cell_type": "markdown",
   "metadata": {
    "id": "yZIKFr26sEMF"
   },
   "source": [
    "# Introduction to Python\n",
    "\n",
    "[Python Website](https://www.python.org/).  \n",
    "\n",
    "[Python Brochure](https://brochure.getpython.info/)\n",
    "\n",
    "Few important things about Python.  \n",
    "\n",
    "*   Python is very lean\n",
    "*   Python is cross platform - runs through an interpreter\n",
    "*   Versatile - Unlimitted packages on PyPI (Python Package Index)\n",
    "*   Established (20 yrs+) but still fresh\n",
    "\n",
    "Foundational to Google.  \n",
    "Used by services like bit.ly. \n",
    "SurveyMonkey.  \n",
    "scientific computing for aerospace research and particle research at CERN.  \n",
    "and literally like a million other exammples given.  \n",
    "\n",
    "Ideal for automation, web development, scientific computing, and big data + ML. "
   ]
  },
  {
   "cell_type": "markdown",
   "metadata": {
    "id": "Vpvq-gqsP7W0"
   },
   "source": [
    "# Important takeways:\n",
    "\n",
    "A **module** allows us to import existing code to use in our project. \n",
    "\n",
    "A module is an **object**, and objects have **members**.\n",
    "\n",
    "The two member types are **methods** and **attributes**.\n",
    "\n",
    "**Methods** are the same as functions like we talked about in the previous episode, but they are attached to objects and need the dot operator to be invoked. \n",
    "\n",
    "Data is **passed** in to the method as an argument.\n",
    "\n",
    "**Methods** have the ability to **return** data, which can then be assigned to a variable. \n",
    "\n",
    "requests.get() returns a response, which is an object with its own members. "
   ]
  },
  {
   "cell_type": "code",
   "execution_count": 1,
   "metadata": {
    "colab": {
     "base_uri": "https://localhost:8080/"
    },
    "id": "QiFLRwB5vg3S",
    "outputId": "c70c87c0-58ec-4dc4-a6b6-e616c6922920"
   },
   "outputs": [
    {
     "name": "stdout",
     "output_type": "stream",
     "text": [
      "{\"id\":\"f33b7bf5-1aec-42ef-9bd3-e3e7805f4ec0\",\"text\":\"Each king in a deck of playing cards represents a great king from history. Spades - King David, Clubs - Alexander the Great, Hearts - Charlemagne, and Diamonds - Julius Caesar.\",\"source\":\"djtech.net\",\"source_url\":\"http:\\/\\/www.djtech.net\\/humor\\/useless_facts.htm\",\"language\":\"en\",\"permalink\":\"https:\\/\\/uselessfacts.jsph.pl\\/f33b7bf5-1aec-42ef-9bd3-e3e7805f4ec0\"}\n"
     ]
    }
   ],
   "source": [
    "import requests\n",
    "\n",
    "response = requests.get('https://uselessfacts.jsph.pl/random.json?language=en')\n",
    "\n",
    "print(response.text)"
   ]
  },
  {
   "cell_type": "markdown",
   "metadata": {
    "id": "dm55k4o4PiV5"
   },
   "source": [
    "We can also display without the print() function as the code is executed in interactive mode:\n"
   ]
  },
  {
   "cell_type": "code",
   "execution_count": 2,
   "metadata": {
    "colab": {
     "base_uri": "https://localhost:8080/",
     "height": 69
    },
    "id": "6Gg7bG2PPdj-",
    "outputId": "f9239ced-6de4-4fa3-97e6-7ccdad53ecbc"
   },
   "outputs": [
    {
     "data": {
      "text/plain": [
       "'{\"id\":\"f33b7bf5-1aec-42ef-9bd3-e3e7805f4ec0\",\"text\":\"Each king in a deck of playing cards represents a great king from history. Spades - King David, Clubs - Alexander the Great, Hearts - Charlemagne, and Diamonds - Julius Caesar.\",\"source\":\"djtech.net\",\"source_url\":\"http:\\\\/\\\\/www.djtech.net\\\\/humor\\\\/useless_facts.htm\",\"language\":\"en\",\"permalink\":\"https:\\\\/\\\\/uselessfacts.jsph.pl\\\\/f33b7bf5-1aec-42ef-9bd3-e3e7805f4ec0\"}'"
      ]
     },
     "execution_count": 2,
     "metadata": {},
     "output_type": "execute_result"
    }
   ],
   "source": [
    "response.text"
   ]
  },
  {
   "cell_type": "markdown",
   "metadata": {
    "id": "B6wwNoPURBuC"
   },
   "source": [
    " Below we go through a variation of the above code. In this example we define our **query parameters** in a separate dictionary. These are then passed as an argument to the **params** parameter of requests.get().\n",
    "\n",
    "We also use response.json() instead of response.text to get the response data as a dictionary.\n",
    "\n",
    "Python dictionaries have a .get() method that can be used to grab a particular element, such as 'text' (this value depends on the API we are consuming)"
   ]
  },
  {
   "cell_type": "code",
   "execution_count": null,
   "metadata": {
    "colab": {
     "base_uri": "https://localhost:8080/"
    },
    "id": "GAvRMWRFL9Rn",
    "outputId": "e618db64-a359-4d5e-d921-32189616bf80"
   },
   "outputs": [
    {
     "name": "stdout",
     "output_type": "stream",
     "text": [
      "Ants closely resemble human manners:  When they wake, they stretch & appear to yawn in a human manner before taking up the tasks of the day.\n"
     ]
    }
   ],
   "source": [
    "query_parameters={\n",
    "    'language':'en'\n",
    "}\n",
    "response = requests.get('https://uselessfacts.jsph.pl/random.json', params=query_parameters)\n",
    "\n",
    "print(response.json().get('text'))"
   ]
  },
  {
   "cell_type": "markdown",
   "metadata": {
    "id": "KTsv0tSEGIY8"
   },
   "source": [
    "# Data Structures\n",
    "The **important** ones are lists, dictionaries, and sets."
   ]
  },
  {
   "cell_type": "code",
   "execution_count": null,
   "metadata": {
    "colab": {
     "base_uri": "https://localhost:8080/"
    },
    "id": "1I_GShMzGH61",
    "outputId": "41619e6d-efae-4481-e7ac-8a1db52f067d"
   },
   "outputs": [
    {
     "name": "stdout",
     "output_type": "stream",
     "text": [
      "You\n",
      "['Caleb', 'You', 'Jimmy', ['hello'], 5]\n"
     ]
    }
   ],
   "source": [
    "data01 = [] #creating a list\n",
    "data02 = ['Caleb', 'You']\n",
    "print(data02[1])\n",
    "\n",
    "data02.append('Jimmy') #adding to a list\n",
    "data02.append(['hello'])\n",
    "data02.append(5)\n",
    "\n",
    "print(data02)"
   ]
  },
  {
   "cell_type": "markdown",
   "metadata": {
    "id": "b5P8V7CeHqT8"
   },
   "source": [
    "# List Slicing\n",
    "first number - starting position (inclusive).  \n",
    "second number - stopping position (exclusive).  \n",
    "third number - step.  "
   ]
  },
  {
   "cell_type": "code",
   "execution_count": null,
   "metadata": {
    "colab": {
     "base_uri": "https://localhost:8080/"
    },
    "id": "DLaiO2eWHSku",
    "outputId": "f1b6d28e-96ab-47f2-99e6-560473ced46a"
   },
   "outputs": [
    {
     "data": {
      "text/plain": [
       "['Jimmy', 'Samantha', 'Monica']"
      ]
     },
     "execution_count": 9,
     "metadata": {
      "tags": []
     },
     "output_type": "execute_result"
    }
   ],
   "source": [
    "data = ['Caleb', 'Jimmy', 'Samantha', 'Monica']\n",
    "\n",
    "data[1:4]\n",
    "data[1:4:2]"
   ]
  },
  {
   "cell_type": "markdown",
   "metadata": {
    "id": "WKpzkcYLH-k8"
   },
   "source": [
    "# Dictionaries and Sets"
   ]
  },
  {
   "cell_type": "code",
   "execution_count": null,
   "metadata": {
    "colab": {
     "base_uri": "https://localhost:8080/"
    },
    "id": "Dn3cIlu_IARG",
    "outputId": "850140ef-4042-4307-c737-8c2a90cf0ed0"
   },
   "outputs": [
    {
     "name": "stdout",
     "output_type": "stream",
     "text": [
      "{'Jimmy', 'Caleb', 'Monica', 'Samantha'}\n",
      "{'Caleb': 4, 'Jimmy': 10, 'Samantha': 12}\n",
      "4\n"
     ]
    }
   ],
   "source": [
    "data = {'Caleb', 'Jimmy', 'Samantha', 'Monica', 'Caleb'}\n",
    "\n",
    "dataDictionary = {\n",
    "    'Caleb' : 5,\n",
    "    'Jimmy' : 10,\n",
    "    'Samantha' : 12,\n",
    "    'Caleb' : 4\n",
    "}\n",
    "\n",
    "print(data)\n",
    "print(dataDictionary)\n",
    "print(dataDictionary.get('Caleb'))"
   ]
  },
  {
   "cell_type": "markdown",
   "metadata": {
    "id": "1p32SDAlDjxA"
   },
   "source": [
    "# Control Flow - Loops and Conditionals"
   ]
  },
  {
   "cell_type": "code",
   "execution_count": null,
   "metadata": {
    "colab": {
     "base_uri": "https://localhost:8080/"
    },
    "id": "5ILkQEcoIHLA",
    "outputId": "32ceeb97-5c3d-48af-9011-083cd41880e0"
   },
   "outputs": [
    {
     "name": "stdout",
     "output_type": "stream",
     "text": [
      "0 1 2 3 4 5 6 7 8 9 \n",
      "a b c d e \n",
      "0 a 1 b 2 c 3 d 4 e "
     ]
    }
   ],
   "source": [
    "data = ['a', 'b', 'c', 'd', 'e']\n",
    "\n",
    "for i in range(10):\n",
    "    print(i, end = ' ')\n",
    "\n",
    "print()\n",
    "\n",
    "for letter in data:\n",
    "    print(letter, end = ' ')\n",
    "\n",
    "print()\n",
    "\n",
    "for i, letter in enumerate(data):\n",
    "    print(i, letter, end = ' ')"
   ]
  },
  {
   "cell_type": "code",
   "execution_count": null,
   "metadata": {
    "colab": {
     "base_uri": "https://localhost:8080/"
    },
    "id": "dKPH4fvAD6sT",
    "outputId": "6d4621bd-7696-4d8b-ee3a-c09ba142b38e"
   },
   "outputs": [
    {
     "name": "stdout",
     "output_type": "stream",
     "text": [
      "a b c d e start\n",
      "printing data...\n",
      "hello\n",
      "printing data...\n",
      "world\n",
      "printing data...\n",
      "special\n",
      "stop\n"
     ]
    }
   ],
   "source": [
    "data = ['a', 'b', 'c', 'd', 'e']\n",
    "\n",
    "i = 0\n",
    "\n",
    "while i < len(data):\n",
    "    print(data[i], end = ' ')\n",
    "    i += 1\n",
    "\n",
    "while True:\n",
    "    x = input()\n",
    "    if x == 'stop':\n",
    "        break\n",
    "    elif x == 'special':\n",
    "        continue\n",
    "    print('It wasn\\'t stop or special')\n",
    "    print('printing data...')"
   ]
  },
  {
   "cell_type": "code",
   "execution_count": null,
   "metadata": {
    "colab": {
     "base_uri": "https://localhost:8080/"
    },
    "id": "7G1VAy-5H05k",
    "outputId": "b8ad5888-57e4-4906-ab44-9720a19253c4"
   },
   "outputs": [
    {
     "name": "stdout",
     "output_type": "stream",
     "text": [
      "{'Caleb': 4, 'Jimmy': 10, 'Samantha': 12, 'Monica': 20}\n",
      "Caleb 4\n",
      "Jimmy 10\n",
      "Samantha 12\n",
      "Monica 20\n"
     ]
    }
   ],
   "source": [
    "dataDictionary = {\n",
    "    'Caleb' : 5,\n",
    "    'Jimmy' : 10,\n",
    "    'Samantha' : 12,\n",
    "    'Monica' : 20,\n",
    "    'Caleb' : 4\n",
    "}\n",
    "\n",
    "print(dataDictionary)\n",
    "for key, value in dataDictionary.items():\n",
    "    print(key, value)"
   ]
  },
  {
   "cell_type": "markdown",
   "metadata": {
    "id": "d-_cIdpwh0dK"
   },
   "source": [
    "# Guessing Game\n",
    "Generate a random number - random module\n",
    "\n",
    "do while - Python doesn't have this built in.  \n",
    "do something once - possibly repeat it.  \n",
    "ask us for a number; if we get it wrong, ask again.  \n",
    "logic for right / wrong: guessed == correct value"
   ]
  },
  {
   "cell_type": "code",
   "execution_count": null,
   "metadata": {
    "colab": {
     "base_uri": "https://localhost:8080/"
    },
    "id": "kvUMFjmOiHlj",
    "outputId": "b8edfc1e-797c-4519-b8b0-025180feb215"
   },
   "outputs": [
    {
     "name": "stdout",
     "output_type": "stream",
     "text": [
      "Guess a number between 0 and 100.\n",
      "50\n",
      "Guess higher\n",
      "75\n",
      "Guess lower\n",
      "60\n",
      "Guess higher\n",
      "70\n",
      "Guess higher\n",
      "73\n",
      "Guess lower\n",
      "72\n",
      "You Win!\n"
     ]
    }
   ],
   "source": [
    "from random import randint\n",
    "\n",
    "low = 0\n",
    "high = 100\n",
    "\n",
    "correct = randint(low, high)\n",
    "\n",
    "print(f'Guess a number between {low} and {high}.')\n",
    "while True:\n",
    "    guess = int(input())\n",
    "\n",
    "    if guess < correct:\n",
    "        print('Guess higher')\n",
    "    elif guess > correct:\n",
    "        print('Guess lower')\n",
    "    else:\n",
    "        print('You Win!')\n",
    "        break"
   ]
  },
  {
   "cell_type": "code",
   "execution_count": 11,
   "metadata": {
    "colab": {
     "base_uri": "https://localhost:8080/"
    },
    "id": "WVMUynHCmPtk",
    "outputId": "e29073fd-4cb8-4db6-81bb-91019d9a92d8"
   },
   "outputs": [
    {
     "name": "stdout",
     "output_type": "stream",
     "text": [
      "Done!\n"
     ]
    }
   ],
   "source": [
    "print('Done!')"
   ]
  }
 ],
 "metadata": {
  "colab": {
   "collapsed_sections": [],
   "name": "weekOne.ipynb",
   "provenance": []
  },
  "kernelspec": {
   "display_name": "Python 3",
   "language": "python",
   "name": "python3"
  },
  "language_info": {
   "codemirror_mode": {
    "name": "ipython",
    "version": 3
   },
   "file_extension": ".py",
   "mimetype": "text/x-python",
   "name": "python",
   "nbconvert_exporter": "python",
   "pygments_lexer": "ipython3",
   "version": "3.9.4"
  }
 },
 "nbformat": 4,
 "nbformat_minor": 4
}
